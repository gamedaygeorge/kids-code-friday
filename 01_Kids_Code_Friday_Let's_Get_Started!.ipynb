{
  "nbformat": 4,
  "nbformat_minor": 0,
  "metadata": {
    "colab": {
      "name": "01 - Kids Code Friday - Let's Get Started!",
      "provenance": [],
      "collapsed_sections": [],
      "include_colab_link": true
    },
    "kernelspec": {
      "display_name": "Python 3",
      "name": "python3"
    }
  },
  "cells": [
    {
      "cell_type": "markdown",
      "metadata": {
        "id": "view-in-github",
        "colab_type": "text"
      },
      "source": [
        "<a href=\"https://colab.research.google.com/github/gamedaygeorge/kids-code-friday/blob/main/01_Kids_Code_Friday_Let's_Get_Started!.ipynb\" target=\"_parent\"><img src=\"https://colab.research.google.com/assets/colab-badge.svg\" alt=\"Open In Colab\"/></a>"
      ]
    },
    {
      "cell_type": "markdown",
      "metadata": {
        "id": "C2qAJBGAJUTF"
      },
      "source": [
        "# Hello World!\n",
        "Hello Bernie and Nina! Welcome to Kids Code Friday. Let's get started.\n",
        "\n",
        "First, you're reading a notebook. A notebook is a list of cells. Cells contain either explanatory text or executable code and its output. Click a cell to select it."
      ]
    },
    {
      "cell_type": "markdown",
      "metadata": {
        "id": "KR921S_OQSHG"
      },
      "source": [
        "## Code cells\n",
        "Below is a **code cell**. Once the toolbar button indicates CONNECTED, click in the cell to select it and execute the contents in the following ways:\n",
        "\n",
        "* Click the **Play icon** in the left gutter of the cell;\n",
        "* Type **Cmd/Ctrl+Enter** to run the cell in place;\n",
        "* Type **Shift+Enter** to run the cell and move focus to the next cell (adding one if none exists); or\n",
        "* Type **Alt+Enter** to run the cell and insert a new code cell immediately below it.\n",
        "\n",
        "There are additional options for running some or all cells in the **Runtime** menu.\n"
      ]
    },
    {
      "cell_type": "code",
      "metadata": {
        "cellView": "both",
        "colab": {
          "base_uri": "https://localhost:8080/",
          "height": 130
        },
        "id": "WUtu4316QSHL",
        "outputId": "419c61d3-974f-42d1-d630-5209df2eff3e"
      },
      "source": [
        "print(*Hello Bernie and Nina!*')"
      ],
      "execution_count": null,
      "outputs": [
        {
          "output_type": "error",
          "ename": "SyntaxError",
          "evalue": "ignored",
          "traceback": [
            "\u001b[0;36m  File \u001b[0;32m\"<ipython-input-4-efae0cc283c6>\"\u001b[0;36m, line \u001b[0;32m1\u001b[0m\n\u001b[0;31m    print(*Hello Bernie and Nina!*')\u001b[0m\n\u001b[0m                      ^\u001b[0m\n\u001b[0;31mSyntaxError\u001b[0m\u001b[0;31m:\u001b[0m invalid syntax\n"
          ]
        }
      ]
    },
    {
      "cell_type": "markdown",
      "metadata": {
        "id": "Id6tDF1HQSHD"
      },
      "source": [
        "## Text cells\n",
        "This is a *text cell*. You can **double-click** to edit this cell.\n",
        "\n",
        "If you put `*` before and after a word (`*like this*`), it will be *italic*.\n",
        "\n",
        "If you put `**` before and after a word (`**like this **`), it will be **bold**.\n",
        "\n",
        "You can use text cells to add words explaing your code and telling your story.\n",
        "\n",
        "Fun!\n"
      ]
    },
    {
      "cell_type": "markdown",
      "metadata": {
        "id": "7bqjkGKwQSHW"
      },
      "source": [
        "## Adding and moving cells\n",
        "You can add new cells by using the **+ CODE** and **+ TEXT** buttons that show when you hover between cells. These buttons are also in the toolbar above the notebook where they can be used to add a cell below the currently selected cell.\n",
        "\n",
        "You can move a cell by selecting it and clicking **Cell Up** or **Cell Down** in the top toolbar. \n",
        "\n",
        "Consecutive cells can be selected by \"lasso selection\" by dragging from outside one cell and through the group.  Non-adjacent cells can be selected concurrently by clicking one and then holding down Ctrl while clicking another.  Similarly, using Shift instead of Ctrl will select all intermediate cells."
      ]
    },
    {
      "cell_type": "code",
      "metadata": {
        "colab": {
          "base_uri": "https://localhost:8080/"
        },
        "id": "TqB_oCxkHXsX",
        "outputId": "25f2203d-6654-49f2-eec6-4169167de74f"
      },
      "source": [
        "print('Hello Dad')"
      ],
      "execution_count": null,
      "outputs": [
        {
          "output_type": "stream",
          "text": [
            "Hello Dad\n"
          ],
          "name": "stdout"
        }
      ]
    },
    {
      "cell_type": "markdown",
      "metadata": {
        "id": "GOwlZRXEQSHZ"
      },
      "source": [
        "# Do some coding!"
      ]
    },
    {
      "cell_type": "markdown",
      "metadata": {
        "id": "ROcoDiREMb7D"
      },
      "source": [
        "## Do some math.\n",
        "\n",
        "You can do all sorts of math in here using these:\n",
        "- `+` add numbers\n",
        "- `-` subtract numbers\n",
        "- `*` multiply numbers\n",
        "- `/` divide numbers\n",
        "\n",
        "***Change the numbers below if you want!***"
      ]
    },
    {
      "cell_type": "code",
      "metadata": {
        "colab": {
          "base_uri": "https://localhost:8080/"
        },
        "id": "wLrJRsFYMsee",
        "outputId": "01614b7c-e124-4279-d3e5-61cf42673195"
      },
      "source": [
        "# Add\n",
        "1 + 1"
      ],
      "execution_count": null,
      "outputs": [
        {
          "output_type": "execute_result",
          "data": {
            "text/plain": [
              "2"
            ]
          },
          "metadata": {
            "tags": []
          },
          "execution_count": 6
        }
      ]
    },
    {
      "cell_type": "code",
      "metadata": {
        "colab": {
          "base_uri": "https://localhost:8080/"
        },
        "id": "z9Krw06zMuS6",
        "outputId": "5716116f-c718-419a-d1b7-d2ef1ef350fc"
      },
      "source": [
        "# Subtract\n",
        "4-3"
      ],
      "execution_count": null,
      "outputs": [
        {
          "output_type": "execute_result",
          "data": {
            "text/plain": [
              "1"
            ]
          },
          "metadata": {
            "tags": []
          },
          "execution_count": 7
        }
      ]
    },
    {
      "cell_type": "code",
      "metadata": {
        "colab": {
          "base_uri": "https://localhost:8080/"
        },
        "id": "9ieUXcXSMv_u",
        "outputId": "2d8c085b-9982-48b4-ee0a-85449df2b67a"
      },
      "source": [
        "# Multiply\n",
        "2*5"
      ],
      "execution_count": null,
      "outputs": [
        {
          "output_type": "execute_result",
          "data": {
            "text/plain": [
              "10"
            ]
          },
          "metadata": {
            "tags": []
          },
          "execution_count": 8
        }
      ]
    },
    {
      "cell_type": "code",
      "metadata": {
        "colab": {
          "base_uri": "https://localhost:8080/"
        },
        "id": "DNOiuzCtHmLS",
        "outputId": "c2008f45-982a-42d7-96d1-f620bd3199b1"
      },
      "source": [
        "# Multiply\n",
        "5*5"
      ],
      "execution_count": null,
      "outputs": [
        {
          "output_type": "execute_result",
          "data": {
            "text/plain": [
              "25"
            ]
          },
          "metadata": {
            "tags": []
          },
          "execution_count": 9
        }
      ]
    },
    {
      "cell_type": "code",
      "metadata": {
        "colab": {
          "base_uri": "https://localhost:8080/"
        },
        "id": "olwSWDTTMx1R",
        "outputId": "71a41d02-0be3-4bb1-e08e-816749d336ae"
      },
      "source": [
        "# Divide\n",
        "10/5"
      ],
      "execution_count": null,
      "outputs": [
        {
          "output_type": "execute_result",
          "data": {
            "text/plain": [
              "2.0"
            ]
          },
          "metadata": {
            "tags": []
          },
          "execution_count": 5
        }
      ]
    },
    {
      "cell_type": "markdown",
      "metadata": {
        "id": "5hD7MCK-MX0t"
      },
      "source": [
        "## Put the Notebook to Sleep!\n",
        "You can run the code cell below to make the notebook sleep.\n",
        "\n",
        "This code makes it sleep for 30 seconds. See if you can work out how to change the time, but don't make it sleep too long of you might get boared!"
      ]
    },
    {
      "cell_type": "code",
      "metadata": {
        "cellView": "both",
        "colab": {
          "base_uri": "https://localhost:8080/"
        },
        "id": "d-S-3nYLQSHb",
        "outputId": "f0edf5cc-d0af-4bed-9c78-aff134c17676"
      },
      "source": [
        "import time # This gets a library called 'time' which includes some useful time functions\n",
        "print(\"Sleeping\")\n",
        "time.sleep(10) # sleep for 10 seconds\n",
        "print(\"Done Sleeping\")"
      ],
      "execution_count": null,
      "outputs": [
        {
          "output_type": "stream",
          "text": [
            "Sleeping\n",
            "Done Sleeping\n"
          ],
          "name": "stdout"
        }
      ]
    },
    {
      "cell_type": "markdown",
      "metadata": {
        "id": "pSGoW5fILjbe"
      },
      "source": [
        "## Names and Variables!\n",
        "Coding uses variables. In the code below, change `my_name` to your name and see what happens. (Be sure to leave the `'`s in place.)"
      ]
    },
    {
      "cell_type": "code",
      "metadata": {
        "colab": {
          "base_uri": "https://localhost:8080/"
        },
        "id": "8CfZ0aHQLwOr",
        "outputId": "9f424de1-a310-4452-bcb8-aa851dd28d44"
      },
      "source": [
        "my_name = 'nina'\n",
        "\n",
        "print(my_name + 'is cool!')"
      ],
      "execution_count": null,
      "outputs": [
        {
          "output_type": "stream",
          "text": [
            "George is the best!\n"
          ],
          "name": "stdout"
        }
      ]
    },
    {
      "cell_type": "markdown",
      "metadata": {
        "id": "qwcxqaO-pilJ"
      },
      "source": [
        "## Count to 10!\n",
        "Run this code to count to 10. Notice how we're using a `for` loop, the `sleep` command, and the `print` command together."
      ]
    },
    {
      "cell_type": "code",
      "metadata": {
        "id": "zbhEbtojp-77"
      },
      "source": [
        "import time # This gets a library called 'time' which includes some useful time functions\n",
        "count_to = 10 # Try changing this number!\n",
        "\n",
        "print('Let\\'s count to ' + str(count_to) + '!')\n",
        "\n",
        "# This code uses a for loop, which runs from 0 to count_to-1\n",
        "for number in range(count_to):\n",
        "  print(str(number+1))\n",
        "  time.sleep(1)"
      ],
      "execution_count": null,
      "outputs": []
    },
    {
      "cell_type": "markdown",
      "metadata": {
        "id": "qM4myQGfQboQ"
      },
      "source": [
        "## Have a Play with Magics\n",
        "See if you can get your name into the magics below. And maybe have a play with changing the colour.\n"
      ]
    },
    {
      "cell_type": "code",
      "metadata": {
        "colab": {
          "base_uri": "https://localhost:8080/",
          "height": 38
        },
        "id": "UgM4vlhtH_yZ",
        "outputId": "312c2f60-9103-44ac-b49d-05382c22738a"
      },
      "source": [
        "%%html\n",
        "<marquee style='width: 30%; color: aqua;'><b>nina is cool!</b></marquee>"
      ],
      "execution_count": null,
      "outputs": [
        {
          "output_type": "display_data",
          "data": {
            "text/html": [
              "<marquee style='width: 30%; color: aqua;'><b>nina is cool!</b></marquee>"
            ],
            "text/plain": [
              "<IPython.core.display.HTML object>"
            ]
          },
          "metadata": {
            "tags": []
          }
        }
      ]
    },
    {
      "cell_type": "code",
      "metadata": {
        "cellView": "both",
        "colab": {
          "base_uri": "https://localhost:8080/",
          "height": 38
        },
        "id": "odfM-_GxWbCy",
        "outputId": "0f4ccc5b-5d98-4056-f9fa-b10e6174d75c"
      },
      "source": [
        "%%html\n",
        "<marquee style='width: 30%; color: magenta;'><b>am i the best?</b></marquee>"
      ],
      "execution_count": null,
      "outputs": [
        {
          "output_type": "display_data",
          "data": {
            "text/html": [
              "<marquee style='width: 30%; color: magenta;'><b>am i the best?</b></marquee>"
            ],
            "text/plain": [
              "<IPython.core.display.HTML object>"
            ]
          },
          "metadata": {
            "tags": []
          }
        }
      ]
    },
    {
      "cell_type": "markdown",
      "metadata": {
        "id": "aGDCfazUpsfZ"
      },
      "source": [
        "# Challenge"
      ]
    },
    {
      "cell_type": "markdown",
      "metadata": {
        "id": "f6n8HJQGpxIB"
      },
      "source": [
        "## Counting magic?\n",
        "\n",
        "See if you can combine the code you've learned above in some interesting ways. Have a play - you can't break anything!"
      ]
    },
    {
      "cell_type": "code",
      "metadata": {
        "id": "C86jHnvbNItO",
        "colab": {
          "base_uri": "https://localhost:8080/",
          "height": 130
        },
        "outputId": "e206a0eb-5d25-4c77-c888-ff0357d81bed"
      },
      "source": [
        "<marquee style='width: 30%; color: lime'><b>i am the best</b></marquee>"
      ],
      "execution_count": null,
      "outputs": [
        {
          "output_type": "error",
          "ename": "SyntaxError",
          "evalue": "ignored",
          "traceback": [
            "\u001b[0;36m  File \u001b[0;32m\"<ipython-input-3-1928fd998d67>\"\u001b[0;36m, line \u001b[0;32m1\u001b[0m\n\u001b[0;31m    <marquee style='width: 30%; color: lime'><b>i am the best</b></marquee>\u001b[0m\n\u001b[0m    ^\u001b[0m\n\u001b[0;31mSyntaxError\u001b[0m\u001b[0;31m:\u001b[0m invalid syntax\n"
          ]
        }
      ]
    },
    {
      "cell_type": "code",
      "metadata": {
        "id": "Y8UmwSA1pvRN"
      },
      "source": [
        ""
      ],
      "execution_count": null,
      "outputs": []
    }
  ]
}