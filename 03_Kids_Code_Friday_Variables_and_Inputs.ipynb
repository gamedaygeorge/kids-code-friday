{
  "nbformat": 4,
  "nbformat_minor": 0,
  "metadata": {
    "colab": {
      "name": "03 - Kids Code Friday - Variables and Inputs",
      "provenance": [],
      "collapsed_sections": [],
      "include_colab_link": true
    },
    "kernelspec": {
      "display_name": "Python 3",
      "name": "python3"
    }
  },
  "cells": [
    {
      "cell_type": "markdown",
      "metadata": {
        "id": "view-in-github",
        "colab_type": "text"
      },
      "source": [
        "<a href=\"https://colab.research.google.com/github/gamedaygeorge/kids-code-friday/blob/main/03_Kids_Code_Friday_Variables_and_Inputs.ipynb\" target=\"_parent\"><img src=\"https://colab.research.google.com/assets/colab-badge.svg\" alt=\"Open In Colab\"/></a>"
      ]
    },
    {
      "cell_type": "markdown",
      "metadata": {
        "id": "C2qAJBGAJUTF"
      },
      "source": [
        "# Hello Bernie and Nina!\n",
        "Welcome to Kids Code Friday. Today let's have fun with variables!\n",
        "\n",
        "Remember, in a notebook we have a list of cells. Cells contain either explanatory text or executable code and its output. Click a cell to select it."
      ]
    },
    {
      "cell_type": "markdown",
      "metadata": {
        "id": "KR921S_OQSHG"
      },
      "source": [
        "## Code cells\n",
        "Below is a **code cell**. Once the toolbar button indicates CONNECTED, click in the cell to select it and execute the contents in the following ways:\n",
        "\n",
        "* Click the **Play icon** in the left gutter of the cell;\n",
        "* Type **Cmd/Ctrl+Enter** to run the cell in place;\n",
        "* Type **Shift+Enter** to run the cell and move focus to the next cell (adding one if none exists); or\n",
        "* Type **Alt+Enter** to run the cell and insert a new code cell immediately below it.\n",
        "\n",
        "There are additional options for running some or all cells in the **Runtime** menu.\n"
      ]
    },
    {
      "cell_type": "code",
      "metadata": {
        "cellView": "both",
        "colab": {
          "base_uri": "https://localhost:8080/"
        },
        "id": "WUtu4316QSHL",
        "outputId": "722faca5-1695-428d-9ad8-7581fe07e744"
      },
      "source": [
        "print('Hello Bernie and Nina!')"
      ],
      "execution_count": 1,
      "outputs": [
        {
          "output_type": "stream",
          "text": [
            "Hello Bernie and Nina!\n"
          ],
          "name": "stdout"
        }
      ]
    },
    {
      "cell_type": "markdown",
      "metadata": {
        "id": "_wFj8YclQOAj"
      },
      "source": [
        "# Variables\n",
        "Variables are a key part of coding. Variables are used to store values so they can be re-used or updated. There are different types of variables:\n",
        "\n",
        "- Integers (whole numbers)\n",
        "- Floats (decimal numbers)\n",
        "- Strings (letters, words)\n",
        "\n",
        "Here are some examples."
      ]
    },
    {
      "cell_type": "markdown",
      "metadata": {
        "id": "YhPJnkyhQlIv"
      },
      "source": [
        "## Integer Examples"
      ]
    },
    {
      "cell_type": "code",
      "metadata": {
        "colab": {
          "base_uri": "https://localhost:8080/"
        },
        "id": "9oLwGrKUQntl",
        "outputId": "574d8c83-fba9-446a-f738-4a21d57b1abf"
      },
      "source": [
        "ninas_age = 6\n",
        "bernies_age = 11\n",
        "\n",
        "ninas_age + bernies_age"
      ],
      "execution_count": 2,
      "outputs": [
        {
          "output_type": "execute_result",
          "data": {
            "text/plain": [
              "17"
            ]
          },
          "metadata": {
            "tags": []
          },
          "execution_count": 2
        }
      ]
    },
    {
      "cell_type": "markdown",
      "metadata": {
        "id": "jy0noxinQ8rf"
      },
      "source": [
        "## Float Examples"
      ]
    },
    {
      "cell_type": "code",
      "metadata": {
        "colab": {
          "base_uri": "https://localhost:8080/"
        },
        "id": "BIMgT3mIROxU",
        "outputId": "397f5fda-be83-46a8-9483-cb59d3a83fc1"
      },
      "source": [
        "high_temperature = 35.5\n",
        "\n",
        "low_temperature = -5.3\n",
        "\n",
        "temperature_range = 35.5 - low_temperature\n",
        "\n",
        "print(str(temperature_range))"
      ],
      "execution_count": 4,
      "outputs": [
        {
          "output_type": "stream",
          "text": [
            "40.8\n"
          ],
          "name": "stdout"
        }
      ]
    },
    {
      "cell_type": "markdown",
      "metadata": {
        "id": "ZbnVtsjaRTU-"
      },
      "source": [
        "## String Examples"
      ]
    },
    {
      "cell_type": "code",
      "metadata": {
        "colab": {
          "base_uri": "https://localhost:8080/"
        },
        "id": "iEdgS3ENRV3y",
        "outputId": "b5f74fdc-53ff-4725-ceda-6037b429205b"
      },
      "source": [
        "younger_kids_name = 'Nina'\n",
        "younger_kids_age = min(ninas_age, bernies_age)\n",
        "\n",
        "older_kids_name = 'Bernie'\n",
        "older_kids_age = max(ninas_age, bernies_age)\n",
        "\n",
        "print(younger_kids_name + ' is youngest at ' + str(younger_kids_age) + ' years.')\n",
        "print(older_kids_name + ' is oldest at ' + str(older_kids_age) + ' years.')\n",
        "\n",
        "age_difference = older_kids_age - younger_kids_age\n",
        "\n",
        "print(older_kids_name + ' is ' + str(age_difference) + ' years older than ' + younger_kids_name + '.')"
      ],
      "execution_count": 9,
      "outputs": [
        {
          "output_type": "stream",
          "text": [
            "Nina is youngest at 6 years.\n",
            "Bernie is oldest at 11 years.\n",
            "Bernie is 5 years older than Nina.\n"
          ],
          "name": "stdout"
        }
      ]
    },
    {
      "cell_type": "markdown",
      "metadata": {
        "id": "ex2JVuJTSLgx"
      },
      "source": [
        "Notice that if you want to print a number, you need to use `str()` to convert it to a string."
      ]
    },
    {
      "cell_type": "code",
      "metadata": {
        "colab": {
          "base_uri": "https://localhost:8080/"
        },
        "id": "cJCryA81SRTM",
        "outputId": "8793fa08-b676-407c-fd06-c6cd120e74c2"
      },
      "source": [
        "my_number = 12\n",
        "\n",
        "print(str(my_number))"
      ],
      "execution_count": 10,
      "outputs": [
        {
          "output_type": "stream",
          "text": [
            "12\n"
          ],
          "name": "stdout"
        }
      ]
    },
    {
      "cell_type": "markdown",
      "metadata": {
        "id": "WI7LD9hESmp8"
      },
      "source": [
        "Use `type()` to see what type a variable is."
      ]
    },
    {
      "cell_type": "code",
      "metadata": {
        "colab": {
          "base_uri": "https://localhost:8080/"
        },
        "id": "OYZWWwIiSs6R",
        "outputId": "c44d07e3-0e1b-49a0-b759-c6ad223d98d0"
      },
      "source": [
        "type(my_number)"
      ],
      "execution_count": 15,
      "outputs": [
        {
          "output_type": "execute_result",
          "data": {
            "text/plain": [
              "int"
            ]
          },
          "metadata": {
            "tags": []
          },
          "execution_count": 15
        }
      ]
    },
    {
      "cell_type": "code",
      "metadata": {
        "colab": {
          "base_uri": "https://localhost:8080/"
        },
        "id": "ERXHpfUoS2qE",
        "outputId": "d6bd48ed-e449-4cf7-ac22-49eac3fdf7b8"
      },
      "source": [
        "type(older_kids_name)"
      ],
      "execution_count": 16,
      "outputs": [
        {
          "output_type": "execute_result",
          "data": {
            "text/plain": [
              "str"
            ]
          },
          "metadata": {
            "tags": []
          },
          "execution_count": 16
        }
      ]
    },
    {
      "cell_type": "markdown",
      "metadata": {
        "id": "htsvIbyPSat6"
      },
      "source": [
        "# Inputs\n",
        "Now we'll look at collecting some inputs!"
      ]
    },
    {
      "cell_type": "code",
      "metadata": {
        "colab": {
          "base_uri": "https://localhost:8080/"
        },
        "id": "W770LsRpS5ok",
        "outputId": "b494db0e-0f9f-4fe1-82fd-fd5963e917ad"
      },
      "source": [
        "input_number = input()"
      ],
      "execution_count": 21,
      "outputs": [
        {
          "output_type": "stream",
          "text": [
            "1.23\n"
          ],
          "name": "stdout"
        }
      ]
    },
    {
      "cell_type": "code",
      "metadata": {
        "colab": {
          "base_uri": "https://localhost:8080/"
        },
        "id": "Xx4JoNktS9U_",
        "outputId": "a5a7802b-16c8-4f50-fcbb-30b44b50f3d3"
      },
      "source": [
        "print('Your number is ' + str(input_number) + '!')"
      ],
      "execution_count": 23,
      "outputs": [
        {
          "output_type": "stream",
          "text": [
            "Your number is 1.23 !\n"
          ],
          "name": "stdout"
        }
      ]
    },
    {
      "cell_type": "code",
      "metadata": {
        "colab": {
          "base_uri": "https://localhost:8080/"
        },
        "id": "M3DD2u0bTOVr",
        "outputId": "e529c4d8-7e69-454c-c68e-2b3953ce7c15"
      },
      "source": [
        "input_name = input('What is your name? ')"
      ],
      "execution_count": 27,
      "outputs": [
        {
          "output_type": "stream",
          "text": [
            "What is your name? Bernie\n"
          ],
          "name": "stdout"
        }
      ]
    },
    {
      "cell_type": "code",
      "metadata": {
        "colab": {
          "base_uri": "https://localhost:8080/"
        },
        "id": "NQUG-ypPTSKD",
        "outputId": "dbdf38c8-0c97-4b5a-c135-c1bb92859b90"
      },
      "source": [
        "print('Hi ' + input_name + '!')"
      ],
      "execution_count": 28,
      "outputs": [
        {
          "output_type": "stream",
          "text": [
            "Hi Bernie!\n"
          ],
          "name": "stdout"
        }
      ]
    },
    {
      "cell_type": "markdown",
      "metadata": {
        "id": "Dqtt0vHnbP_6"
      },
      "source": [
        "## Bonus\n",
        "See if you can ask some questions and make a sentence using names and numbers. NRL teams, gymnastics, lambos, Olympics - use your imagination!"
      ]
    },
    {
      "cell_type": "code",
      "metadata": {
        "colab": {
          "background_save": true
        },
        "id": "HWTaaDbcbVg5"
      },
      "source": [
        ""
      ],
      "execution_count": null,
      "outputs": []
    }
  ]
}